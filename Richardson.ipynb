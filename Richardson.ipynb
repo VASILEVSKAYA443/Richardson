{
 "cells": [
  {
   "cell_type": "code",
   "execution_count": 1,
   "metadata": {},
   "outputs": [],
   "source": [
    "import numpy as np\n",
    "import scipy.integrate as integrate\n",
    "import sympy as sp"
   ]
  },
  {
   "cell_type": "code",
   "execution_count": 2,
   "metadata": {},
   "outputs": [],
   "source": [
    "a, b, alpha, betta = 1.3, 2.2, 0, 5/6\n",
    "f = lambda x: 4*np.cos(0.5*x)*np.exp(-5/4*x)+2*np.sin(4.5*x)*np.exp(x/8)+2\n",
    "w = lambda x, i: (x-a)**(-alpha) * (b-x)**(-betta) * x**i\n",
    "k, p = 15, 3"
   ]
  },
  {
   "cell_type": "markdown",
   "metadata": {},
   "source": [
    "\n",
    "<img src=\"./Richardson/2.png\">"
   ]
  },
  {
   "cell_type": "code",
   "execution_count": 3,
   "metadata": {},
   "outputs": [],
   "source": [
    "def nutonkotes(a, b, points):\n",
    "    \"\"\"\n",
    "    a - начало промежутка\n",
    "    b - конец промежутка\n",
    "    points - кол-во точек для разбиения промежутка [a, b]\n",
    "    \n",
    "    a < p1 < p2 < .. < pn < b\n",
    "    \"\"\"\n",
    "    uzl = np.linspace(a, b, points) # Разбиваем промежуток на кол-во(points - кол-во отреков) равных отрезков. Uzl - массив с точками\n",
    "    m = np.array([integrate.quad(w, a, b, args=(i)) for i in range(points)], dtype=np.float64) # считаем моменты\n",
    "    M = m[:, 0];\n",
    "    X = np.array([uzl**i for i in range(0, points)], dtype=np.float64); # составляем матрицу из узлов\n",
    "    A = np.linalg.solve(X, M); # рещаем систему лин. уравнений, получаем коофиценты\n",
    "    integral = np.sum([A[j]*f(uzl[j]) for j in range(points)]); # считаем инеграл, как сумму произведений соответсвующего коофицента\n",
    "    # умноженного на значение функции в соответсвующем узле\n",
    "    return integral"
   ]
  },
  {
   "cell_type": "markdown",
   "metadata": {},
   "source": [
    "<img src=\"./Richardson/1.png\">"
   ]
  },
  {
   "cell_type": "code",
   "execution_count": 5,
   "metadata": {},
   "outputs": [],
   "source": [
    "def getIntegral(a, b, h):\n",
    "    \"\"\"\n",
    "    Возвращает интеграл на промежутке [a,b] с шагом h.\n",
    "    \"\"\"\n",
    "    h = int((b-a) / h)\n",
    "    uzl = np.linspace(a, b, h)\n",
    "    return np.array([nutonkotes(uzl[i], uzl[i+1], 3) for i in range(h-1)]).sum()\n",
    "\n",
    "def Richardson(a, b, m, r, h1, L):\n",
    "    \"\"\"\n",
    "    a - начало\n",
    "    b - конец\n",
    "    m - алг. точность\n",
    "    r - размерность системы\n",
    "    h1 - начальный шаг\n",
    "    L - величина во сколько раз уменьшается шаг\n",
    "    \"\"\"\n",
    "    h = np.array([h1 / (L**i) for i in range(r+1)]) # создаем вектор шагов длиной r+1. h1, h1/L, h1/L^2, h1/L^3 ..., h1/L^r\n",
    "    S = - np.array([getIntegral(a, b, h[i]) for i in range(r+1)]) # считаем интегралы для каждого шага\n",
    "    \n",
    "    H = np.array([h ** (m+i) for i in range(r)]) # развертываем вектор h в матрицу размерности (r+1 x r).\n",
    "    # 1ая строка матрицы равна h^m\n",
    "    # 2ая строка матрицы h^(m+1)\n",
    "    # ...\n",
    "    # rая строка матрицы h^(m+r-1)\n",
    "    ones = - np.ones((r+1)) # создаем вектор размерности r+1 из -1 \n",
    "    H = np.append(H, ones).reshape(r+1, r+1).T # присоединяем вектор из -1 к нашей матрице и транспонируем ее. Размерность\n",
    "    # полученной матрицы (r+1, r+1)\n",
    "    \n",
    "    C = np.linalg.solve(H, S) # решаем систему получаем вектор C. В последнем элементе вектора C записан искомый интеграл\n",
    "    return abs(np.dot(C[:r], H[0][:r])), C[r] # выводим погрешность и инеграл"
   ]
  },
  {
   "cell_type": "markdown",
   "metadata": {},
   "source": [
    "# L, h1 = 2, 100 # задаем L и начальный шаг\n",
    "m = 3 # алгебраическая точность\n",
    "r = 1 # задаем начальное r, влияющее на размерность системы. r=1 => размерность (2, 2)\n",
    "error, J = Richardson(a, b, m, r, (b-a)/h1, L) # Расчитываем погрешность и интеграл.\n",
    "while error > 1e-6: # пока погрешность не ниже 10^(-6) увеличиваем размерность системы\n",
    "    error, J = Richardson(a, b, m, r, (b-a)/h1, L)\n",
    "    r += 1 # увеличиваем размерность системы\n",
    "    print(f'r = {r}.  Погрешность: {error}   Интеграл: {J}')"
   ]
  },
  {
   "cell_type": "code",
   "execution_count": null,
   "metadata": {},
   "outputs": [],
   "source": []
  }
 ],
 "metadata": {
  "kernelspec": {
   "display_name": "Python 3",
   "language": "python",
   "name": "python3"
  },
  "language_info": {
   "codemirror_mode": {
    "name": "ipython",
    "version": 3
   },
   "file_extension": ".py",
   "mimetype": "text/x-python",
   "name": "python",
   "nbconvert_exporter": "python",
   "pygments_lexer": "ipython3",
   "version": "3.7.2"
  }
 },
 "nbformat": 4,
 "nbformat_minor": 2
}
